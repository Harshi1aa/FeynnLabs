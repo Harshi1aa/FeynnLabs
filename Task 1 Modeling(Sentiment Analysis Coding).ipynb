{
  "nbformat": 4,
  "nbformat_minor": 0,
  "metadata": {
    "colab": {
      "provenance": []
    },
    "kernelspec": {
      "name": "python3",
      "display_name": "Python 3"
    },
    "language_info": {
      "name": "python"
    }
  },
  "cells": [
    {
      "cell_type": "code",
      "execution_count": null,
      "metadata": {
        "colab": {
          "base_uri": "https://localhost:8080/"
        },
        "id": "u4EBmW7W6VK4",
        "outputId": "ba5b3c5a-8b02-4c49-cdb1-90ad5cecb26c"
      },
      "outputs": [
        {
          "output_type": "stream",
          "name": "stdout",
          "text": [
            "Business: EcoGrocery\n",
            "Review: EcoGrocery wins award for sustainable packaging innovation! Their commitment to reducing plastic waste is truly impressive.\n",
            "Sentiment: Positive\n",
            "==============================\n",
            "Business: SolarTech Solutions\n",
            "Review: SolarTech Solutions helps local school go solar, reducing energy costs.\n",
            "Sentiment: Positive\n",
            "==============================\n",
            "Business: GreenEats Restaurant\n",
            "Review: GreenEats Restaurant recognized for its commitment to reducing food waste.\n",
            "Sentiment: Negative\n",
            "==============================\n",
            "Business: BioPack\n",
            "Review: BioPack's biodegradable packaging adopted by major food chains.\n",
            "Sentiment: Neutral\n",
            "==============================\n",
            "Business: CycleCommute\n",
            "Review: CycleCommute reaches 1 million rides, significantly reducing carbon footprint.\n",
            "Sentiment: Positive\n",
            "==============================\n"
          ]
        },
        {
          "output_type": "stream",
          "name": "stderr",
          "text": [
            "[nltk_data] Downloading package vader_lexicon to /root/nltk_data...\n"
          ]
        }
      ],
      "source": [
        "import nltk\n",
        "from nltk.sentiment import SentimentIntensityAnalyzer\n",
        "\n",
        "nltk.download('vader_lexicon')\n",
        "\n",
        "# Sample business profiles\n",
        "business_profiles = [\n",
        "    {\n",
        "        'name': 'EcoGrocery',\n",
        "        'description': 'A grocery store that specializes in locally sourced, organic produce and offers plastic-free packaging options.'\n",
        "    },\n",
        "    {\n",
        "        'name': 'SolarTech Solutions',\n",
        "        'description': 'A company that provides solar panel installation and energy-efficient solutions for homes and businesses.'\n",
        "    },\n",
        "    {\n",
        "        'name': 'GreenEats Restaurant',\n",
        "        'description': 'A restaurant chain that serves plant-based, sustainable, and locally grown food.'\n",
        "    },\n",
        "    {\n",
        "        'name': 'BioPack',\n",
        "        'description': 'A packaging company that produces biodegradable and compostable packaging materials for various industries.'\n",
        "    },\n",
        "    {\n",
        "        'name': 'CycleCommute',\n",
        "        'description': 'An app-based bicycle-sharing service aimed at reducing carbon emissions and promoting eco-friendly commuting.'\n",
        "    }\n",
        "]\n",
        "\n",
        "# Sample sentiment analysis data\n",
        "sentiment_data = [\n",
        "    {\n",
        "        'business': 'EcoGrocery',\n",
        "        'review': \"EcoGrocery wins award for sustainable packaging innovation! Their commitment to reducing plastic waste is truly impressive.\",\n",
        "        'sentiment': 'Positive'\n",
        "    },\n",
        "    {\n",
        "        'business': 'SolarTech Solutions',\n",
        "        'review': \"SolarTech Solutions helps local school go solar, reducing energy costs.\",\n",
        "        'sentiment': 'Positive'\n",
        "    },\n",
        "    {\n",
        "        'business': 'GreenEats Restaurant',\n",
        "        'review': \"GreenEats Restaurant recognized for its commitment to reducing food waste.\",\n",
        "        'sentiment': 'Positive'\n",
        "    },\n",
        "    {\n",
        "        'business': 'BioPack',\n",
        "        'review': \"BioPack's biodegradable packaging adopted by major food chains.\",\n",
        "        'sentiment': 'Positive'\n",
        "    },\n",
        "    {\n",
        "        'business': 'CycleCommute',\n",
        "        'review': \"CycleCommute reaches 1 million rides, significantly reducing carbon footprint.\",\n",
        "        'sentiment': 'Positive'\n",
        "    }\n",
        "]\n",
        "\n",
        "def analyze_sentiment(text):\n",
        "    sia = SentimentIntensityAnalyzer()\n",
        "    sentiment_scores = sia.polarity_scores(text)\n",
        "\n",
        "    sentiment = \"\"\n",
        "    if sentiment_scores['compound'] >= 0.05:\n",
        "        sentiment = \"Positive\"\n",
        "    elif sentiment_scores['compound'] <= -0.05:\n",
        "        sentiment = \"Negative\"\n",
        "    else:\n",
        "        sentiment = \"Neutral\"\n",
        "\n",
        "    return sentiment\n",
        "\n",
        "# Analyzing sentiment for each review\n",
        "for data in sentiment_data:\n",
        "    sentiment = analyze_sentiment(data['review'])\n",
        "    print(f\"Business: {data['business']}\")\n",
        "    print(f\"Review: {data['review']}\")\n",
        "    print(f\"Sentiment: {sentiment}\")\n",
        "    print(\"=\"*30)\n"
      ]
    }
  ]
}
